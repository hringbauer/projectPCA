{
 "cells": [
  {
   "cell_type": "markdown",
   "id": "2d8d9c49-b252-4856-b5db-93f77f31c062",
   "metadata": {},
   "source": [
    "# Prepare Reference Projections\n",
    "Manually process those"
   ]
  },
  {
   "cell_type": "code",
   "execution_count": 1,
   "id": "f0348ccb-bb4c-480a-bb7a-34a0ddfcaf91",
   "metadata": {},
   "outputs": [
    {
     "name": "stdout",
     "output_type": "stream",
     "text": [
      "Leipzig Cluster detected!\n",
      "/mnt/archgen/users/hringbauer/git/projectPCA\n",
      "CPU Count: 128\n",
      "sys.version_info(major=3, minor=12, micro=3, releaselevel='final', serial=0)\n"
     ]
    }
   ],
   "source": [
    "import numpy as np\n",
    "import pandas as pd\n",
    "import matplotlib.pyplot as plt\n",
    "import socket as socket\n",
    "import os as os\n",
    "import sys as sys\n",
    "import multiprocessing as mp\n",
    "\n",
    "socket_name = socket.gethostname()\n",
    "    \n",
    "if socket_name.startswith(\"bionc\") or socket_name.startswith(\"hpc\"):\n",
    "    print(\"Leipzig Cluster detected!\")\n",
    "    path = \"/mnt/archgen/users/hringbauer/git/projectPCA/\"   \n",
    "    #path = \"/mnt/archgen/users/hringbauer/\"\n",
    "else: \n",
    "    raise RuntimeWarning(\"Not compatible machine. Check!!\")\n",
    "     \n",
    "os.chdir(path)  # Set the right Path (in line with Atom default)\n",
    "print(os.getcwd())\n",
    "print(f\"CPU Count: {mp.cpu_count()}\")\n",
    "print(sys.version_info)\n",
    "\n",
    "#from projectPCA.eigenstrat_funcs import load_genos_autoeager, update_values\n",
    "from projectPCA.run import project_eigenstrat\n",
    "\n",
    "%config InlineBackend.print_figure_kwargs={'facecolor' : \"w\"}"
   ]
  },
  {
   "cell_type": "markdown",
   "id": "69008b13-e50e-4640-a6c5-ebf151a0899a",
   "metadata": {},
   "source": [
    "# 1) Joscha PCA (EU finescale)\n",
    "\n",
    "## 1b) Add Colors"
   ]
  },
  {
   "cell_type": "code",
   "execution_count": 3,
   "id": "46647df9-5c81-46c4-8aee-2d3f1da98eff",
   "metadata": {},
   "outputs": [
    {
     "name": "stdout",
     "output_type": "stream",
     "text": [
      "Loaded 1300 HO Projections onto Joscha PCA\n"
     ]
    }
   ],
   "source": [
    "df = pd.read_csv(\"./projectPCA/data/joscha_v1/joscha.ho_proj.maf05.tsv\", sep=\"\\t\")\n",
    "print(f\"Loaded {len(df)} HO Projections onto Joscha PCA\")"
   ]
  },
  {
   "cell_type": "markdown",
   "id": "504d479c-327f-4b32-8d36-5b7b58dedd82",
   "metadata": {},
   "source": [
    "### Filter to relevant pops"
   ]
  },
  {
   "cell_type": "code",
   "execution_count": 7,
   "id": "edacec0f-5b47-44dc-9b2e-d9b3cf7cd89b",
   "metadata": {},
   "outputs": [],
   "source": [
    "ls=[\"Spanish\", \"Basque\", \"French\", \"Italian_North\", \"Sicilian\", \"Sardinian\", \n",
    "    \"Russian\", \"Finnish\", \"Ukrainian\", \"Greek\", \"Hungarian\", \n",
    "    \"Orcadian\", \"Norwegian\", \"Icelandic\", \"English\", \"Croatian\", \"Czech\", \"Scottish\", \n",
    "    \"Albanian\", \"Bulgarian\"]\n",
    "\n",
    "cs=[\"red\", \"maroon\", \"yellow\", \"orange\", \"deeppink\", \"brown\", \"blue\", \"salmon\", \n",
    "    \"pink\", \"violet\", \"magenta\", \"black\", \"saddlebrown\", \n",
    "    \"dimgray\", \"silver\", \"royalblue\", \"aqua\", \"ivory\", \"plum\", \"fuchsia\"]"
   ]
  },
  {
   "cell_type": "code",
   "execution_count": 21,
   "id": "ac049e1e-42a7-4b5b-91d9-f79d31fdd3e6",
   "metadata": {},
   "outputs": [],
   "source": [
    "def create_subset_colors(df, ls=[], cs=[], savepath=\"\", delete_substrings=[]):\n",
    "    \"\"\"Subset PCA dataframe and color_code\"\"\"\n",
    "    dfs_new = []\n",
    "    \n",
    "    for l,c in zip (ls, cs):\n",
    "        dft = df[df[\"pop\"].str.contains(l)].copy()\n",
    "        print(f\"Found {len(dft)} of {l}\")\n",
    "        dft[\"c\"] = c\n",
    "    \n",
    "        dfs_new.append(dft)\n",
    "    df1 = pd.concat(dfs_new).reset_index(drop=True)\n",
    "    for d in delete_substrings:\n",
    "        df1[\"pop\"] = df1[\"pop\"].str.replace(d, \"\")\n",
    "    if len(savepath)>0:\n",
    "        df1.to_csv(savepath, sep=\"\\t\", index=False)\n",
    "        print(f\"Saved to: {savepath}\")\n",
    "    return df1"
   ]
  },
  {
   "cell_type": "code",
   "execution_count": 22,
   "id": "8346e4d5-98a7-4c06-b65c-9da276b79dbc",
   "metadata": {},
   "outputs": [
    {
     "name": "stdout",
     "output_type": "stream",
     "text": [
      "Found 178 of Spanish\n",
      "Found 32 of Basque\n",
      "Found 63 of French\n",
      "Found 21 of Italian_North\n",
      "Found 11 of Sicilian\n",
      "Found 27 of Sardinian\n",
      "Found 72 of Russian\n",
      "Found 7 of Finnish\n",
      "Found 13 of Ukrainian\n",
      "Found 22 of Greek\n",
      "Found 20 of Hungarian\n",
      "Found 13 of Orcadian\n",
      "Found 11 of Norwegian\n",
      "Found 12 of Icelandic\n",
      "Found 10 of English\n",
      "Found 10 of Croatian\n",
      "Found 10 of Czech\n",
      "Found 4 of Scottish\n",
      "Found 6 of Albanian\n",
      "Found 10 of Bulgarian\n",
      "Saved to: ./projectPCA/data/joscha_v1/joscha.ho_proj.euro_c.maf05.tsv\n"
     ]
    }
   ],
   "source": [
    "### Save\n",
    "df1 = create_subset_colors(df, ls=ls, cs=cs, savepath=\"./projectPCA/data/joscha_v1/joscha.ho_proj.euro_c.maf05.tsv\",\n",
    "                          delete_substrings=[\".HO\", \"Ignore_\"])"
   ]
  },
  {
   "cell_type": "code",
   "execution_count": 23,
   "id": "f098e094-e92e-4377-bf9c-bfd805467be8",
   "metadata": {},
   "outputs": [
    {
     "data": {
      "text/html": [
       "<div>\n",
       "<style scoped>\n",
       "    .dataframe tbody tr th:only-of-type {\n",
       "        vertical-align: middle;\n",
       "    }\n",
       "\n",
       "    .dataframe tbody tr th {\n",
       "        vertical-align: top;\n",
       "    }\n",
       "\n",
       "    .dataframe thead th {\n",
       "        text-align: right;\n",
       "    }\n",
       "</style>\n",
       "<table border=\"1\" class=\"dataframe\">\n",
       "  <thead>\n",
       "    <tr style=\"text-align: right;\">\n",
       "      <th></th>\n",
       "      <th>pc1</th>\n",
       "      <th>pc2</th>\n",
       "      <th>#SNP</th>\n",
       "      <th>iid</th>\n",
       "      <th>pop</th>\n",
       "      <th>c</th>\n",
       "    </tr>\n",
       "  </thead>\n",
       "  <tbody>\n",
       "    <tr>\n",
       "      <th>0</th>\n",
       "      <td>-0.006974</td>\n",
       "      <td>-0.006904</td>\n",
       "      <td>112668</td>\n",
       "      <td>HG01500.HO</td>\n",
       "      <td>Spanish</td>\n",
       "      <td>red</td>\n",
       "    </tr>\n",
       "    <tr>\n",
       "      <th>1</th>\n",
       "      <td>-0.008879</td>\n",
       "      <td>-0.007012</td>\n",
       "      <td>112671</td>\n",
       "      <td>HG01501.HO</td>\n",
       "      <td>Spanish</td>\n",
       "      <td>red</td>\n",
       "    </tr>\n",
       "    <tr>\n",
       "      <th>2</th>\n",
       "      <td>-0.009376</td>\n",
       "      <td>-0.008506</td>\n",
       "      <td>112588</td>\n",
       "      <td>HG01503.HO</td>\n",
       "      <td>Spanish</td>\n",
       "      <td>red</td>\n",
       "    </tr>\n",
       "    <tr>\n",
       "      <th>3</th>\n",
       "      <td>-0.011852</td>\n",
       "      <td>-0.010374</td>\n",
       "      <td>112710</td>\n",
       "      <td>HG01504.HO</td>\n",
       "      <td>Spanish</td>\n",
       "      <td>red</td>\n",
       "    </tr>\n",
       "    <tr>\n",
       "      <th>4</th>\n",
       "      <td>-0.005734</td>\n",
       "      <td>-0.009228</td>\n",
       "      <td>112723</td>\n",
       "      <td>HG01506.HO</td>\n",
       "      <td>Spanish</td>\n",
       "      <td>red</td>\n",
       "    </tr>\n",
       "    <tr>\n",
       "      <th>...</th>\n",
       "      <td>...</td>\n",
       "      <td>...</td>\n",
       "      <td>...</td>\n",
       "      <td>...</td>\n",
       "      <td>...</td>\n",
       "      <td>...</td>\n",
       "    </tr>\n",
       "    <tr>\n",
       "      <th>547</th>\n",
       "      <td>-0.006967</td>\n",
       "      <td>0.003133</td>\n",
       "      <td>112694</td>\n",
       "      <td>BulgarianB1.HO</td>\n",
       "      <td>Bulgarian</td>\n",
       "      <td>fuchsia</td>\n",
       "    </tr>\n",
       "    <tr>\n",
       "      <th>548</th>\n",
       "      <td>-0.013915</td>\n",
       "      <td>0.002654</td>\n",
       "      <td>112547</td>\n",
       "      <td>BulgarianC1.HO</td>\n",
       "      <td>Bulgarian</td>\n",
       "      <td>fuchsia</td>\n",
       "    </tr>\n",
       "    <tr>\n",
       "      <th>549</th>\n",
       "      <td>-0.006982</td>\n",
       "      <td>0.005511</td>\n",
       "      <td>112747</td>\n",
       "      <td>BulgarianF1.HO</td>\n",
       "      <td>Bulgarian</td>\n",
       "      <td>fuchsia</td>\n",
       "    </tr>\n",
       "    <tr>\n",
       "      <th>550</th>\n",
       "      <td>-0.006691</td>\n",
       "      <td>0.001447</td>\n",
       "      <td>112733</td>\n",
       "      <td>BulgarianH2.HO</td>\n",
       "      <td>Bulgarian</td>\n",
       "      <td>fuchsia</td>\n",
       "    </tr>\n",
       "    <tr>\n",
       "      <th>551</th>\n",
       "      <td>-0.003883</td>\n",
       "      <td>0.001262</td>\n",
       "      <td>112645</td>\n",
       "      <td>BulgarianF2.HO</td>\n",
       "      <td>Bulgarian</td>\n",
       "      <td>fuchsia</td>\n",
       "    </tr>\n",
       "  </tbody>\n",
       "</table>\n",
       "<p>552 rows × 6 columns</p>\n",
       "</div>"
      ],
      "text/plain": [
       "          pc1       pc2    #SNP             iid        pop        c\n",
       "0   -0.006974 -0.006904  112668      HG01500.HO    Spanish      red\n",
       "1   -0.008879 -0.007012  112671      HG01501.HO    Spanish      red\n",
       "2   -0.009376 -0.008506  112588      HG01503.HO    Spanish      red\n",
       "3   -0.011852 -0.010374  112710      HG01504.HO    Spanish      red\n",
       "4   -0.005734 -0.009228  112723      HG01506.HO    Spanish      red\n",
       "..        ...       ...     ...             ...        ...      ...\n",
       "547 -0.006967  0.003133  112694  BulgarianB1.HO  Bulgarian  fuchsia\n",
       "548 -0.013915  0.002654  112547  BulgarianC1.HO  Bulgarian  fuchsia\n",
       "549 -0.006982  0.005511  112747  BulgarianF1.HO  Bulgarian  fuchsia\n",
       "550 -0.006691  0.001447  112733  BulgarianH2.HO  Bulgarian  fuchsia\n",
       "551 -0.003883  0.001262  112645  BulgarianF2.HO  Bulgarian  fuchsia\n",
       "\n",
       "[552 rows x 6 columns]"
      ]
     },
     "execution_count": 23,
     "metadata": {},
     "output_type": "execute_result"
    }
   ],
   "source": [
    "df1"
   ]
  },
  {
   "cell_type": "markdown",
   "id": "27564880-3bef-46c8-bbb8-5c4b6eea09b2",
   "metadata": {},
   "source": [
    "# 2) Human Origin PCA"
   ]
  },
  {
   "cell_type": "code",
   "execution_count": null,
   "id": "b52679a0-e454-4e22-a0e1-d0c51a3f38ad",
   "metadata": {},
   "outputs": [],
   "source": []
  }
 ],
 "metadata": {
  "kernelspec": {
   "display_name": "Python 3 (ipykernel)",
   "language": "python",
   "name": "python3"
  },
  "language_info": {
   "codemirror_mode": {
    "name": "ipython",
    "version": 3
   },
   "file_extension": ".py",
   "mimetype": "text/x-python",
   "name": "python",
   "nbconvert_exporter": "python",
   "pygments_lexer": "ipython3",
   "version": "3.12.3"
  }
 },
 "nbformat": 4,
 "nbformat_minor": 5
}
